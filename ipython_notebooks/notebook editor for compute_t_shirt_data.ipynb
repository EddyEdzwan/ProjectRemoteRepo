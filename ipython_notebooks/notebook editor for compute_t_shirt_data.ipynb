{
  "metadata": {
    "kernelspec": {
      "name": "py-dku-containerized-venv--compute-cpu-small",
      "display_name": "Python in compute-cpu-small (builtin env)",
      "language": "python"
    },
    "hide_input": false,
    "language_info": {
      "name": "python",
      "version": "3.9.19",
      "mimetype": "text/x-python",
      "codemirror_mode": {
        "name": "ipython",
        "version": 3
      },
      "pygments_lexer": "ipython3",
      "nbconvert_exporter": "python",
      "file_extension": ".py"
    },
    "creator": "lauren.diperna",
    "tags": [
      "recipe-editor"
    ],
    "createdOn": 1727886316984,
    "customFields": {},
    "associatedRecipe": "compute_t_shirt_data",
    "modifiedBy": "lauren.diperna"
  },
  "nbformat": 4,
  "nbformat_minor": 1,
  "cells": [
    {
      "execution_count": 0,
      "cell_type": "code",
      "metadata": {},
      "source": [
        "# -*- coding: utf-8 -*-\nimport dataiku\nimport pandas as pd, numpy as np\nfrom dataiku import pandasutils as pdu\nfrom io import BytesIO"
      ],
      "outputs": []
    },
    {
      "execution_count": 0,
      "cell_type": "code",
      "metadata": {},
      "source": [
        "# Read recipe inputs\nInput_Datasets \u003d dataiku.Folder(\"MOVzMGpu\")\nInput_Datasets_info \u003d Input_Datasets.get_info()"
      ],
      "outputs": []
    },
    {
      "execution_count": 0,
      "cell_type": "code",
      "metadata": {},
      "source": [
        "file_paths \u003d Input_Datasets.list_paths_in_partition()\nfirst_file_path \u003d file_paths[0]"
      ],
      "outputs": []
    },
    {
      "execution_count": 0,
      "cell_type": "code",
      "metadata": {},
      "source": [
        "with Input_Datasets.get_download_stream(first_file_path) as f:\n    data \u003d f.read()"
      ],
      "outputs": []
    },
    {
      "execution_count": 0,
      "cell_type": "code",
      "metadata": {},
      "source": [
        "df \u003d pd.read_csv(BytesIO(data))"
      ],
      "outputs": []
    },
    {
      "execution_count": 0,
      "cell_type": "code",
      "metadata": {},
      "source": [
        "df[\u0027total\u0027] \u003d df[\u0027tshirt_price\u0027] * df[\u0027tshirt_quantity\u0027]\n\n# update text category description\ndf[\u0027tshirt_category\u0027] \u003d df[\u0027tshirt_category\u0027].str.replace(\u0027Wh \u0027, \u0027White \u0027)"
      ],
      "outputs": []
    },
    {
      "execution_count": 0,
      "cell_type": "code",
      "metadata": {},
      "source": [
        "processed_dataset_df \u003d df"
      ],
      "outputs": []
    },
    {
      "execution_count": 0,
      "cell_type": "code",
      "metadata": {},
      "source": [
        "# Write recipe outputs\n# Dataset processed_data renamed to t_shirt_data by neba.nfonsang on 2024-09-16 20:58:07\nprocessed_dataset \u003d dataiku.Dataset(\"t_shirt_data\")\nprocessed_dataset.write_with_schema(processed_dataset_df)"
      ],
      "outputs": []
    }
  ]
}